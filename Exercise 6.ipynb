{
  "cells": [
    {
      "cell_type": "markdown",
      "metadata": {
        "id": "view-in-github",
        "colab_type": "text"
      },
      "source": [
        "<a href=\"https://colab.research.google.com/github/Patrickcruz14/CPE009B-CPE21S1-OOP2/blob/main/Exercise%206.ipynb\" target=\"_parent\"><img src=\"https://colab.research.google.com/assets/colab-badge.svg\" alt=\"Open In Colab\"/></a>"
      ]
    },
    {
      "cell_type": "code",
      "source": [
        "from tkinter import *\n",
        "\n",
        "\n",
        "class MyWindow:\n",
        "    def __init__(self, win):\n",
        "        # Set window background to a pastel color (light blue here)\n",
        "        win.config(bg=\"#e0f7fa\")\n",
        "\n",
        "        # Title label with Times New Roman font\n",
        "        self.Label1 = Label(win, bg=\"#e0f7fa\", fg=\"#004d40\", text=\"Calculator\", font=(\"Times New Roman\", 50))\n",
        "        self.Label1.place(x=60, y=10)\n",
        "\n",
        "        # Labels for number inputs\n",
        "        self.Label2 = Label(win, text=\"Number 1:\", bg=\"#e0f7fa\", fg=\"#004d40\", font=(\"Times New Roman\", 12))\n",
        "        self.Label2.place(x=50, y=80)\n",
        "\n",
        "        self.Entry1 = Entry(win, bd=0, bg=\"#ffffff\", fg=\"#004d40\", font=(\"Times New Roman\", 12), highlightthickness=2,\n",
        "                            highlightbackground=\"#004d40\")\n",
        "        self.Entry1.place(x=175, y=80)\n",
        "\n",
        "        self.Label3 = Label(win, text=\"Number 2:\", bg=\"#e0f7fa\", fg=\"#004d40\", font=(\"Times New Roman\", 12))\n",
        "        self.Label3.place(x=50, y=130)\n",
        "\n",
        "        self.Entry2 = Entry(win, bd=0, bg=\"#ffffff\", fg=\"#004d40\", font=(\"Times New Roman\", 12), highlightthickness=2,\n",
        "                            highlightbackground=\"#004d40\")\n",
        "        self.Entry2.place(x=175, y=130)\n",
        "\n",
        "        # Result label\n",
        "        self.Label4 = Label(win, text=\"Result:\", bg=\"#e0f7fa\", fg=\"#004d40\", font=(\"Times New Roman\", 12))\n",
        "        self.Label4.place(x=50, y=180)\n",
        "\n",
        "        self.Entry3 = Entry(win, bd=0, bg=\"#ffffff\", fg=\"#004d40\", font=(\"Times New Roman\", 12), highlightthickness=2,\n",
        "                            highlightbackground=\"#004d40\")\n",
        "        self.Entry3.place(x=175, y=180)\n",
        "\n",
        "        # Buttons with stylish background and Times New Roman font\n",
        "        self.Button1 = Button(win, fg=\"#ffffff\", bg=\"#004d40\", text=\"Addition\", font=(\"Times New Roman\", 10),\n",
        "                              command=self.add)\n",
        "        self.Button1.place(x=50, y=230)\n",
        "\n",
        "        self.Button2 = Button(win, fg=\"#ffffff\", bg=\"#004d40\", text=\"Subtraction\", font=(\"Times New Roman\", 10),\n",
        "                              command=self.sub)\n",
        "        self.Button2.place(x=130, y=230)\n",
        "\n",
        "        self.Button3 = Button(win, fg=\"#ffffff\", bg=\"#004d40\", text=\"Multiplication\", font=(\"Times New Roman\", 10),\n",
        "                              command=self.mul)\n",
        "        self.Button3.place(x=230, y=230)\n",
        "\n",
        "        self.Button4 = Button(win, fg=\"#ffffff\", bg=\"#004d40\", text=\"Division\", font=(\"Times New Roman\", 10),\n",
        "                              command=self.div)\n",
        "        self.Button4.place(x=330, y=230)\n",
        "\n",
        "        self.Button5 = Button(win, fg=\"#ffffff\", bg=\"#ff5722\", text=\"Clear\", font=(\"Times New Roman\", 10),\n",
        "                              command=self.clear)\n",
        "        self.Button5.place(x=190, y=270)\n",
        "\n",
        "    def add(self):\n",
        "        self.Entry3.delete(0, 'end')\n",
        "        num1 = int(self.Entry1.get())\n",
        "        num2 = int(self.Entry2.get())\n",
        "        result = num1 + num2\n",
        "        self.Entry3.insert(END, str(result))\n",
        "\n",
        "    def sub(self):\n",
        "        self.Entry3.delete(0, 'end')\n",
        "        num1 = int(self.Entry1.get())\n",
        "        num2 = int(self.Entry2.get())\n",
        "        result = num1 - num2\n",
        "        self.Entry3.insert(END, str(result))\n",
        "\n",
        "    def mul(self):\n",
        "        self.Entry3.delete(0, 'end')\n",
        "        num1 = int(self.Entry1.get())\n",
        "        num2 = int(self.Entry2.get())\n",
        "        result = num1 * num2\n",
        "        self.Entry3.insert(END, str(result))\n",
        "\n",
        "    def div(self):\n",
        "        self.Entry3.delete(0, 'end')\n",
        "        num1 = int(self.Entry1.get())\n",
        "        num2 = int(self.Entry2.get())\n",
        "        result = num1 / num2\n",
        "        self.Entry3.insert(END, str(result))\n",
        "\n",
        "    def clear(self):\n",
        "        self.Entry1.delete(0, 'end')\n",
        "        self.Entry2.delete(0, 'end')\n",
        "        self.Entry3.delete(0, 'end')\n",
        "\n",
        "\n",
        "window = Tk()\n",
        "MyWin = MyWindow(window)\n",
        "\n",
        "window.geometry(\"400x350+10+10\")\n",
        "window.title(\"Stylish Calculator\")\n",
        "window.mainloop()\n"
      ],
      "metadata": {
        "id": "aYeep5Ecxe-0",
        "outputId": "b404e8ad-7998-40f1-ff95-f662223fe818",
        "colab": {
          "base_uri": "https://localhost:8080/",
          "height": 332
        }
      },
      "execution_count": 1,
      "outputs": [
        {
          "output_type": "error",
          "ename": "TclError",
          "evalue": "no display name and no $DISPLAY environment variable",
          "traceback": [
            "\u001b[0;31m---------------------------------------------------------------------------\u001b[0m",
            "\u001b[0;31mTclError\u001b[0m                                  Traceback (most recent call last)",
            "\u001b[0;32m<ipython-input-1-11cba8da1dfc>\u001b[0m in \u001b[0;36m<cell line: 91>\u001b[0;34m()\u001b[0m\n\u001b[1;32m     89\u001b[0m \u001b[0;34m\u001b[0m\u001b[0m\n\u001b[1;32m     90\u001b[0m \u001b[0;34m\u001b[0m\u001b[0m\n\u001b[0;32m---> 91\u001b[0;31m \u001b[0mwindow\u001b[0m \u001b[0;34m=\u001b[0m \u001b[0mTk\u001b[0m\u001b[0;34m(\u001b[0m\u001b[0;34m)\u001b[0m\u001b[0;34m\u001b[0m\u001b[0;34m\u001b[0m\u001b[0m\n\u001b[0m\u001b[1;32m     92\u001b[0m \u001b[0mMyWin\u001b[0m \u001b[0;34m=\u001b[0m \u001b[0mMyWindow\u001b[0m\u001b[0;34m(\u001b[0m\u001b[0mwindow\u001b[0m\u001b[0;34m)\u001b[0m\u001b[0;34m\u001b[0m\u001b[0;34m\u001b[0m\u001b[0m\n\u001b[1;32m     93\u001b[0m \u001b[0;34m\u001b[0m\u001b[0m\n",
            "\u001b[0;32m/usr/lib/python3.10/tkinter/__init__.py\u001b[0m in \u001b[0;36m__init__\u001b[0;34m(self, screenName, baseName, className, useTk, sync, use)\u001b[0m\n\u001b[1;32m   2297\u001b[0m                 \u001b[0mbaseName\u001b[0m \u001b[0;34m=\u001b[0m \u001b[0mbaseName\u001b[0m \u001b[0;34m+\u001b[0m \u001b[0mext\u001b[0m\u001b[0;34m\u001b[0m\u001b[0;34m\u001b[0m\u001b[0m\n\u001b[1;32m   2298\u001b[0m         \u001b[0minteractive\u001b[0m \u001b[0;34m=\u001b[0m \u001b[0;32mFalse\u001b[0m\u001b[0;34m\u001b[0m\u001b[0;34m\u001b[0m\u001b[0m\n\u001b[0;32m-> 2299\u001b[0;31m         \u001b[0mself\u001b[0m\u001b[0;34m.\u001b[0m\u001b[0mtk\u001b[0m \u001b[0;34m=\u001b[0m \u001b[0m_tkinter\u001b[0m\u001b[0;34m.\u001b[0m\u001b[0mcreate\u001b[0m\u001b[0;34m(\u001b[0m\u001b[0mscreenName\u001b[0m\u001b[0;34m,\u001b[0m \u001b[0mbaseName\u001b[0m\u001b[0;34m,\u001b[0m \u001b[0mclassName\u001b[0m\u001b[0;34m,\u001b[0m \u001b[0minteractive\u001b[0m\u001b[0;34m,\u001b[0m \u001b[0mwantobjects\u001b[0m\u001b[0;34m,\u001b[0m \u001b[0museTk\u001b[0m\u001b[0;34m,\u001b[0m \u001b[0msync\u001b[0m\u001b[0;34m,\u001b[0m \u001b[0muse\u001b[0m\u001b[0;34m)\u001b[0m\u001b[0;34m\u001b[0m\u001b[0;34m\u001b[0m\u001b[0m\n\u001b[0m\u001b[1;32m   2300\u001b[0m         \u001b[0;32mif\u001b[0m \u001b[0museTk\u001b[0m\u001b[0;34m:\u001b[0m\u001b[0;34m\u001b[0m\u001b[0;34m\u001b[0m\u001b[0m\n\u001b[1;32m   2301\u001b[0m             \u001b[0mself\u001b[0m\u001b[0;34m.\u001b[0m\u001b[0m_loadtk\u001b[0m\u001b[0;34m(\u001b[0m\u001b[0;34m)\u001b[0m\u001b[0;34m\u001b[0m\u001b[0;34m\u001b[0m\u001b[0m\n",
            "\u001b[0;31mTclError\u001b[0m: no display name and no $DISPLAY environment variable"
          ]
        }
      ]
    }
  ],
  "metadata": {
    "colab": {
      "name": "Welcome To Colab",
      "toc_visible": true,
      "provenance": [],
      "include_colab_link": true
    },
    "kernelspec": {
      "display_name": "Python 3",
      "name": "python3"
    }
  },
  "nbformat": 4,
  "nbformat_minor": 0
}