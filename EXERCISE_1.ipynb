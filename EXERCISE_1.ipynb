{
  "nbformat": 4,
  "nbformat_minor": 0,
  "metadata": {
    "colab": {
      "provenance": [],
      "authorship_tag": "ABX9TyOF7Yowz1Qk0PvEbSvzsLoM",
      "include_colab_link": true
    },
    "kernelspec": {
      "name": "python3",
      "display_name": "Python 3"
    },
    "language_info": {
      "name": "python"
    }
  },
  "cells": [
    {
      "cell_type": "markdown",
      "metadata": {
        "id": "view-in-github",
        "colab_type": "text"
      },
      "source": [
        "<a href=\"https://colab.research.google.com/github/Patrickcruz14/CPE009B-CPE21S1-OOP/blob/main/EXERCISE_1.ipynb\" target=\"_parent\"><img src=\"https://colab.research.google.com/assets/colab-badge.svg\" alt=\"Open In Colab\"/></a>"
      ]
    },
    {
      "cell_type": "markdown",
      "source": [],
      "metadata": {
        "id": "5rFEbhFmZBu9"
      }
    },
    {
      "cell_type": "code",
      "source": [],
      "metadata": {
        "id": "16RWcHcFZBWF"
      },
      "execution_count": null,
      "outputs": []
    },
    {
      "cell_type": "markdown",
      "source": [],
      "metadata": {
        "id": "EWwJK0Gle2kG"
      }
    },
    {
      "cell_type": "markdown",
      "source": [
        "# Numbers"
      ],
      "metadata": {
        "id": "Q6EMUo4eZC8V"
      }
    },
    {
      "cell_type": "code",
      "execution_count": 8,
      "metadata": {
        "colab": {
          "base_uri": "https://localhost:8080/"
        },
        "id": "VjLPNsmHWYU0",
        "outputId": "616db945-eec7-491f-f3c8-86842f944e52"
      },
      "outputs": [
        {
          "output_type": "stream",
          "name": "stdout",
          "text": [
            "123\n",
            "3.14159\n"
          ]
        }
      ],
      "source": [
        "varNum = 123\n",
        "pi = 3.14159\n",
        "\n",
        "print (varNum)\n",
        "print (pi)\n"
      ]
    },
    {
      "cell_type": "code",
      "source": [],
      "metadata": {
        "id": "AMJvMRI1ZIPc"
      },
      "execution_count": null,
      "outputs": []
    },
    {
      "cell_type": "markdown",
      "source": [
        "#strings"
      ],
      "metadata": {
        "id": "t3kodHwIaGhG"
      }
    },
    {
      "cell_type": "code",
      "source": [
        "\n",
        "varString = \"Hello World!\"\n",
        "varText = 'This is a String'\n",
        "\n",
        "print (varString)\n",
        "print (varText)"
      ],
      "metadata": {
        "colab": {
          "base_uri": "https://localhost:8080/"
        },
        "id": "0aGRuyNhWg60",
        "outputId": "38ef5bda-55ca-4415-8d3a-fa6bf17209a8"
      },
      "execution_count": 9,
      "outputs": [
        {
          "output_type": "stream",
          "name": "stdout",
          "text": [
            "Hello World!\n",
            "This is a String\n"
          ]
        }
      ]
    },
    {
      "cell_type": "markdown",
      "source": [
        "#lists"
      ],
      "metadata": {
        "id": "khkSMO4QaJ8W"
      }
    },
    {
      "cell_type": "markdown",
      "source": [
        "#lists"
      ],
      "metadata": {
        "id": "inqb_KqNaUUG"
      }
    },
    {
      "cell_type": "code",
      "source": [],
      "metadata": {
        "id": "z9xt2RoqaTg1"
      },
      "execution_count": null,
      "outputs": []
    },
    {
      "cell_type": "code",
      "source": [],
      "metadata": {
        "id": "06BNo3ZXaRZF"
      },
      "execution_count": null,
      "outputs": []
    },
    {
      "cell_type": "code",
      "source": [],
      "metadata": {
        "id": "r1i4wMoCaT7N"
      },
      "execution_count": null,
      "outputs": []
    },
    {
      "cell_type": "code",
      "source": [
        "\n",
        "varList = [\"Abc\" , 123]\n",
        "print (varList)\n"
      ],
      "metadata": {
        "colab": {
          "base_uri": "https://localhost:8080/"
        },
        "id": "s0Gl2oVlWiBH",
        "outputId": "a430f6a5-e23c-44ca-fabc-dee1483cee5c"
      },
      "execution_count": 13,
      "outputs": [
        {
          "output_type": "stream",
          "name": "stdout",
          "text": [
            "['Abc', 123]\n"
          ]
        }
      ]
    },
    {
      "cell_type": "code",
      "source": [],
      "metadata": {
        "id": "6O3aked1aJk9"
      },
      "execution_count": null,
      "outputs": []
    },
    {
      "cell_type": "code",
      "source": [
        "#Tuples\n",
        "varTuples = ('abc' , 123, \"HELLO\")\n"
      ],
      "metadata": {
        "id": "-ZSQzurcWjTz"
      },
      "execution_count": null,
      "outputs": []
    },
    {
      "cell_type": "code",
      "source": [
        "#Dictionaries\n",
        "var = 3\n",
        "varDict = {'first':1,'2': '2nd', 3:var}\n",
        "\n",
        "varDict = {}\n",
        "varDict = ['first'] = 1\n",
        "varDict['2'] = '2nd'\n",
        "varDict[3] = var"
      ],
      "metadata": {
        "id": "5bx8e-YGWjR7"
      },
      "execution_count": null,
      "outputs": []
    },
    {
      "cell_type": "code",
      "source": [
        "# substraction\n",
        "a = 5 - 3\n",
        "> 2\n",
        "\n"
      ],
      "metadata": {
        "id": "EP1u9AFzX1HV"
      },
      "execution_count": null,
      "outputs": []
    },
    {
      "cell_type": "code",
      "source": [
        "#Multiplication\n",
        "\n",
        "a = 5 * 3\n",
        "> 15"
      ],
      "metadata": {
        "id": "h_YLOnivWjPr"
      },
      "execution_count": null,
      "outputs": []
    },
    {
      "cell_type": "code",
      "source": [
        "#Exponent\n",
        "a = 5** ]\n",
        "> 125"
      ],
      "metadata": {
        "id": "ugafK3l8WjNP"
      },
      "execution_count": null,
      "outputs": []
    },
    {
      "cell_type": "code",
      "source": [
        "#Division\n",
        "a = 5/3\n",
        "> 1.66666666667\n",
        "\n",
        "a = 5 % 3\n",
        "> 2\n",
        "\n",
        "a = 5 // 3\n",
        ">1"
      ],
      "metadata": {
        "id": "dqycfT-RWjK8"
      },
      "execution_count": null,
      "outputs": []
    },
    {
      "cell_type": "code",
      "source": [
        "#Increment/Decrement\n",
        "a = 5\n",
        "a += 1\n",
        "> 6\n"
      ],
      "metadata": {
        "id": "aftXQbytWjI1"
      },
      "execution_count": null,
      "outputs": []
    },
    {
      "cell_type": "code",
      "source": [
        "#decrement\n",
        "a = 5\n",
        "a -= 1\n",
        ">4"
      ],
      "metadata": {
        "id": "gC3VatZ-YH0N"
      },
      "execution_count": null,
      "outputs": []
    },
    {
      "cell_type": "markdown",
      "source": [],
      "metadata": {
        "id": "0ZYUDEhGYdzd"
      }
    },
    {
      "cell_type": "markdown",
      "source": [
        "#string concentration"
      ],
      "metadata": {
        "id": "ob7_yJTWYgH0"
      }
    },
    {
      "cell_type": "code",
      "source": [
        "\n",
        "a = 'Hello' + 'World'\n",
        "print ( a )"
      ],
      "metadata": {
        "colab": {
          "base_uri": "https://localhost:8080/"
        },
        "id": "Tk_9eSGuWjGu",
        "outputId": "ea475573-37ab-4a78-e6c9-d88f583261d4"
      },
      "execution_count": 17,
      "outputs": [
        {
          "output_type": "stream",
          "name": "stdout",
          "text": [
            "HelloWorld\n"
          ]
        }
      ]
    },
    {
      "cell_type": "markdown",
      "source": [],
      "metadata": {
        "id": "148FDA3PY_US"
      }
    },
    {
      "cell_type": "markdown",
      "source": [],
      "metadata": {
        "id": "MsqsAi55YZFE"
      }
    },
    {
      "cell_type": "code",
      "source": [
        "#Complex expressions"
      ],
      "metadata": {
        "id": "pJmlEt7SYZ9E"
      },
      "execution_count": null,
      "outputs": []
    },
    {
      "cell_type": "code",
      "source": [
        "a = 3 + 5- 6*2 / 4\n",
        "print ( a )\n"
      ],
      "metadata": {
        "colab": {
          "base_uri": "https://localhost:8080/"
        },
        "id": "upwjNdaEYMHc",
        "outputId": "2d8ecf53-e427-4fec-dbc1-6da68c046edb"
      },
      "execution_count": 19,
      "outputs": [
        {
          "output_type": "stream",
          "name": "stdout",
          "text": [
            "5.0\n"
          ]
        }
      ]
    },
    {
      "cell_type": "markdown",
      "source": [],
      "metadata": {
        "id": "kgNJwt5RYiBx"
      }
    },
    {
      "cell_type": "markdown",
      "source": [
        "boolean"
      ],
      "metadata": {
        "id": "HoPlaD7afLUe"
      }
    },
    {
      "cell_type": "code",
      "source": [
        "x = true\n",
        "\n",
        "if x:\n",
        "    print(\"var x is true\")\n",
        "else:\n",
        "    print(\"var x false\")\n",
        "    > var x is True"
      ],
      "metadata": {
        "colab": {
          "base_uri": "https://localhost:8080/",
          "height": 109
        },
        "id": "NyXfJqWMYMFM",
        "outputId": "9dcda402-5045-40b2-beab-eada21956ff0"
      },
      "execution_count": 43,
      "outputs": [
        {
          "output_type": "error",
          "ename": "SyntaxError",
          "evalue": "invalid syntax (<ipython-input-43-0930a079a3ec>, line 7)",
          "traceback": [
            "\u001b[0;36m  File \u001b[0;32m\"<ipython-input-43-0930a079a3ec>\"\u001b[0;36m, line \u001b[0;32m7\u001b[0m\n\u001b[0;31m    > var x is True\u001b[0m\n\u001b[0m    ^\u001b[0m\n\u001b[0;31mSyntaxError\u001b[0m\u001b[0;31m:\u001b[0m invalid syntax\n"
          ]
        }
      ]
    },
    {
      "cell_type": "markdown",
      "source": [
        "#String Conditions"
      ],
      "metadata": {
        "id": "NJsZKk-lfS_h"
      }
    },
    {
      "cell_type": "code",
      "source": [
        "x = \"Hello World!\"\n",
        "if x == 'Hello World':\n",
        "    print (\"var x is Hello World!\")\n",
        "else:\n",
        "    print(\"var x is not Hello World!\")\n",
        "\n"
      ],
      "metadata": {
        "colab": {
          "base_uri": "https://localhost:8080/"
        },
        "id": "UWHmjTFQYMDE",
        "outputId": "38748971-d12c-40b5-9066-f204714953aa"
      },
      "execution_count": 45,
      "outputs": [
        {
          "output_type": "stream",
          "name": "stdout",
          "text": [
            "var x is not Hello World!\n"
          ]
        }
      ]
    },
    {
      "cell_type": "markdown",
      "source": [
        "#Numerical conditions"
      ],
      "metadata": {
        "id": "Nny87WsWfZ7l"
      }
    },
    {
      "cell_type": "code",
      "source": [
        "x = 10\n",
        "if x== '10':\n",
        "    print(\"var x is a string\")\n",
        "else x == 10:\n",
        "    print(\"var x is an integer\")\n",
        "else:\n",
        "    print(\"var x is none of the above\")\n",
        "> var is x an integer\n",
        "\n",
        "#For loops\n",
        "     for var in range(0, 5, 2):\n",
        "         print(var)"
      ],
      "metadata": {
        "colab": {
          "base_uri": "https://localhost:8080/",
          "height": 109
        },
        "id": "jNzLs1kCYMA0",
        "outputId": "06972c5a-995d-4475-a8dc-155ff9e9ff27"
      },
      "execution_count": 52,
      "outputs": [
        {
          "output_type": "error",
          "ename": "SyntaxError",
          "evalue": "invalid syntax (<ipython-input-52-d827ff296b8f>, line 6)",
          "traceback": [
            "\u001b[0;36m  File \u001b[0;32m\"<ipython-input-52-d827ff296b8f>\"\u001b[0;36m, line \u001b[0;32m6\u001b[0m\n\u001b[0;31m    else:\u001b[0m\n\u001b[0m    ^\u001b[0m\n\u001b[0;31mSyntaxError\u001b[0m\u001b[0;31m:\u001b[0m invalid syntax\n"
          ]
        }
      ]
    },
    {
      "cell_type": "markdown",
      "source": [
        "for loops"
      ],
      "metadata": {
        "id": "YuYfL5X6fZJV"
      }
    },
    {
      "cell_type": "code",
      "source": [
        "for var in range(0, 5, 2):\n",
        "         print(var)"
      ],
      "metadata": {
        "colab": {
          "base_uri": "https://localhost:8080/"
        },
        "id": "HAutddbGYL-t",
        "outputId": "109247cd-43c8-4abd-8d14-ce17a0b12f2a"
      },
      "execution_count": 53,
      "outputs": [
        {
          "output_type": "stream",
          "name": "stdout",
          "text": [
            "0\n",
            "2\n",
            "4\n"
          ]
        }
      ]
    },
    {
      "cell_type": "markdown",
      "source": [
        "#while loops"
      ],
      "metadata": {
        "id": "2lUPHjvlf3DR"
      }
    },
    {
      "cell_type": "code",
      "source": [
        "var = 0\n",
        "while var < 5:\n",
        "    print (var)\n",
        "    var += 2"
      ],
      "metadata": {
        "colab": {
          "base_uri": "https://localhost:8080/"
        },
        "id": "CZWimUceYL8e",
        "outputId": "c9638e05-e352-4749-cc4c-00bcb899f430"
      },
      "execution_count": 54,
      "outputs": [
        {
          "output_type": "stream",
          "name": "stdout",
          "text": [
            "0\n",
            "2\n",
            "4\n"
          ]
        }
      ]
    },
    {
      "cell_type": "markdown",
      "source": [
        "NESTED LOOPS"
      ],
      "metadata": {
        "id": "_UKQtULwf8mW"
      }
    },
    {
      "cell_type": "code",
      "source": [
        "x = 0\n",
        "while x < 5:\n",
        "    for y in range (0, x):\n",
        "        print(y, end='')\n",
        "x += 1\n",
        "print()"
      ],
      "metadata": {
        "id": "OhvLA6yEYL6I"
      },
      "execution_count": null,
      "outputs": []
    },
    {
      "cell_type": "code",
      "source": [
        "print (varList[4])"
      ],
      "metadata": {
        "id": "0I1Dn-qEgCha"
      },
      "execution_count": null,
      "outputs": []
    },
    {
      "cell_type": "markdown",
      "source": [
        "LIST"
      ],
      "metadata": {
        "id": "oU7Z5Gn6gDOF"
      }
    },
    {
      "cell_type": "markdown",
      "source": [],
      "metadata": {
        "id": "Nk9dddssgIJG"
      }
    },
    {
      "cell_type": "code",
      "source": [
        "pi = 3.14159\n",
        "varlist = {1,2,'A','S', 'Hello!', pi}\n",
        "print{varlist[0]}\n"
      ],
      "metadata": {
        "id": "amu1I39bWjEc"
      },
      "execution_count": null,
      "outputs": []
    },
    {
      "cell_type": "code",
      "source": [
        "varlist.append('World!')"
      ],
      "metadata": {
        "id": "qsV29ja7WjB8"
      },
      "execution_count": null,
      "outputs": []
    },
    {
      "cell_type": "code",
      "source": [
        "print(varDict['3'])"
      ],
      "metadata": {
        "id": "aEoOQtXHWi8c"
      },
      "execution_count": null,
      "outputs": []
    },
    {
      "cell_type": "code",
      "source": [
        "print(varDict[2])"
      ],
      "metadata": {
        "id": "GYcfOkW0bmMl"
      },
      "execution_count": null,
      "outputs": []
    },
    {
      "cell_type": "markdown",
      "source": [
        "List Generators and comprehension"
      ],
      "metadata": {
        "id": "mx2I56K-boLF"
      }
    },
    {
      "cell_type": "code",
      "source": [
        "def gen_num_up_to(n):\n",
        "  num = 0\n",
        "  while num < n:\n",
        "    yield num\n",
        "    num += 1\n",
        "\n",
        "gen_num_up_to(5)\n"
      ],
      "metadata": {
        "colab": {
          "base_uri": "https://localhost:8080/"
        },
        "id": "ff-EONCEbmKl",
        "outputId": "28b756df-9a19-410d-9bc0-1a97855cd0d1"
      },
      "execution_count": 28,
      "outputs": [
        {
          "output_type": "execute_result",
          "data": {
            "text/plain": [
              "<generator object gen_num_up_to at 0x7ef8dec15ee0>"
            ]
          },
          "metadata": {},
          "execution_count": 28
        }
      ]
    },
    {
      "cell_type": "code",
      "source": [
        "def gen_num_up_to(n):\n",
        "  num = 0\n",
        "  while num < n:\n",
        "    yield num\n",
        "    num += 2\n",
        "\n",
        "    varlist = gen_num_up_to(5)\n",
        "print([var for var in varList])"
      ],
      "metadata": {
        "colab": {
          "base_uri": "https://localhost:8080/"
        },
        "id": "6VcijsGqbmIc",
        "outputId": "fed426e2-676b-422b-a7e2-5943e75092e7"
      },
      "execution_count": 25,
      "outputs": [
        {
          "output_type": "stream",
          "name": "stdout",
          "text": [
            "['Abc', 123]\n"
          ]
        }
      ]
    },
    {
      "cell_type": "markdown",
      "source": [
        "SLICING"
      ],
      "metadata": {
        "id": "gA29TozTdFsu"
      }
    },
    {
      "cell_type": "code",
      "source": [
        "varlist = [1,2,3,4,5,6,7,8,9,10]\n",
        "print(varlist[:5])\n",
        "\n",
        "print(varlist[5:])\n",
        "\n",
        "print(varlist[:-2])\n",
        "\n",
        "print(varList[-2:])\n"
      ],
      "metadata": {
        "colab": {
          "base_uri": "https://localhost:8080/"
        },
        "id": "rVH4K7UWbmGU",
        "outputId": "840f95f9-206c-4d76-c3e3-e6a5a1b31704"
      },
      "execution_count": 36,
      "outputs": [
        {
          "output_type": "stream",
          "name": "stdout",
          "text": [
            "[1, 2, 3, 4, 5]\n",
            "[6, 7, 8, 9, 10]\n",
            "[1, 2, 3, 4, 5, 6, 7, 8]\n",
            "['Abc', 123]\n",
            "[]\n",
            "[]\n"
          ]
        }
      ]
    },
    {
      "cell_type": "code",
      "source": [
        "varlist = [1, 2, 3, 4, 5, 6, 7,8, 9, 10]\n",
        "\n",
        "print(varList[2:-2])\n",
        "\n",
        "print(varList[2:8:2])"
      ],
      "metadata": {
        "colab": {
          "base_uri": "https://localhost:8080/"
        },
        "id": "7rlUzNT7bm5G",
        "outputId": "c01bf798-db73-4516-9ad4-95ccd4154ff9"
      },
      "execution_count": 41,
      "outputs": [
        {
          "output_type": "stream",
          "name": "stdout",
          "text": [
            "[]\n",
            "[]\n"
          ]
        }
      ]
    },
    {
      "cell_type": "markdown",
      "source": [
        "FUNCTIONS\n"
      ],
      "metadata": {
        "id": "jP3SjOjTeVJV"
      }
    },
    {
      "cell_type": "code",
      "source": [
        "def remainder(n, m):\n",
        "  while True:\n",
        "    if n - m < - 0:\n",
        "      return n\n",
        "    else:\n",
        "      n = n - m\n",
        "\n",
        "remainder (10,4)"
      ],
      "metadata": {
        "colab": {
          "base_uri": "https://localhost:8080/"
        },
        "id": "sQT1UenMbmEF",
        "outputId": "ff1eea2f-9ee5-4592-d7d8-9668fb6d2df3"
      },
      "execution_count": 42,
      "outputs": [
        {
          "output_type": "execute_result",
          "data": {
            "text/plain": [
              "2"
            ]
          },
          "metadata": {},
          "execution_count": 42
        }
      ]
    },
    {
      "cell_type": "code",
      "source": [
        "print(varDict['first'])"
      ],
      "metadata": {
        "id": "oRz3IrdKbmB1"
      },
      "execution_count": null,
      "outputs": []
    },
    {
      "cell_type": "code",
      "source": [
        "var = \"Hello World!\"\n",
        "varDict = {'first' : 123,2 : 'abc',\n",
        "           '3' : var, 4 : ['lista', 'listb']}\n",
        "print(varDict['first'])"
      ],
      "metadata": {
        "id": "0R8cb05Mbl_k"
      },
      "execution_count": null,
      "outputs": []
    },
    {
      "cell_type": "code",
      "source": [
        "varlst.remove(pi)\n",
        "print(varList[5])"
      ],
      "metadata": {
        "id": "QRGhUA8Vbl9d"
      },
      "execution_count": null,
      "outputs": []
    },
    {
      "cell_type": "code",
      "source": [
        "print(varList[6])\n",
        "\n",
        "len(varlist)\n",
        "\n",
        "print(varList[5])"
      ],
      "metadata": {
        "id": "yf1f5DgSbl7M"
      },
      "execution_count": null,
      "outputs": []
    },
    {
      "cell_type": "code",
      "source": [],
      "metadata": {
        "id": "Nh8jxiy6bl40"
      },
      "execution_count": null,
      "outputs": []
    },
    {
      "cell_type": "code",
      "source": [],
      "metadata": {
        "id": "xpbqCJAJWiqT"
      },
      "execution_count": null,
      "outputs": []
    }
  ]
}