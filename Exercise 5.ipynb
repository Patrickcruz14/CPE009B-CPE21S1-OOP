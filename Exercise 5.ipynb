{
  "nbformat": 4,
  "nbformat_minor": 0,
  "metadata": {
    "colab": {
      "provenance": [],
      "authorship_tag": "ABX9TyMdzmQMoKDqyz7eOOJgRc3H",
      "include_colab_link": true
    },
    "kernelspec": {
      "name": "python3",
      "display_name": "Python 3"
    },
    "language_info": {
      "name": "python"
    }
  },
  "cells": [
    {
      "cell_type": "markdown",
      "metadata": {
        "id": "view-in-github",
        "colab_type": "text"
      },
      "source": [
        "<a href=\"https://colab.research.google.com/github/Patrickcruz14/CPE009B-CPE21S1-OOP2/blob/main/Exercise%205.ipynb\" target=\"_parent\"><img src=\"https://colab.research.google.com/assets/colab-badge.svg\" alt=\"Open In Colab\"/></a>"
      ]
    },
    {
      "cell_type": "code",
      "execution_count": 15,
      "metadata": {
        "colab": {
          "base_uri": "https://localhost:8080/"
        },
        "id": "dEgxlX93a5qW",
        "outputId": "a3842fa4-c03a-43c6-840f-2b5acf96962d"
      },
      "outputs": [
        {
          "output_type": "stream",
          "name": "stdout",
          "text": [
            "As a student, I do studying, playing, dancing, singing\n",
            "As a teacher, I do teaching, socializing, participating\n"
          ]
        }
      ],
      "source": [
        "class Person:\n",
        "  def __init__(self, name, age):\n",
        "        self.name = name\n",
        "        self.age = age\n",
        "\n",
        "class student(Person):\n",
        "  def traits(self):\n",
        "      return f\"studying, playing, dancing, singing\"\n",
        "\n",
        "class Teacher(Person):\n",
        "  def traits(self):\n",
        "    return f\"teaching, socializing, participating\"\n",
        "\n",
        "student = student(\"Ana\", 20)\n",
        "teacher = Teacher(\"Juan\", 30)\n",
        "\n",
        "print(\"As a student, I do\", student.traits())\n",
        "print(\"As a teacher, I do\", teacher.traits())\n",
        "\n"
      ]
    },
    {
      "cell_type": "code",
      "source": [
        "class subject:\n",
        "  def __init__(self, type, name):\n",
        "    self.type = type\n",
        "    self.name = name\n",
        "\n",
        "class Math(subject):\n",
        "  def traits(self):\n",
        "      return f\"Computing, Savage, Murderer\"\n",
        "\n",
        "class OOP(subject):\n",
        "  def traits(self):\n",
        "    return f\"loving, understanding, considerate\"\n",
        "\n",
        "class DSA(subject):\n",
        "  def traits(self):\n",
        "    return f\"Analysis, analization, critical thinking\"\n",
        "\n",
        "Math = Math(\"theory\", \"Mathematics\")\n",
        "OOP = OOP(\"Python\", \"Polymorphism\")\n",
        "DSA = DSA(\"C++\", \"Python\")\n",
        "\n",
        "print(Math.traits())\n",
        "print(OOP.traits())\n",
        "print(DSA.traits())\n",
        "\n",
        "\n",
        "\n",
        "\n",
        "\n",
        ""
      ],
      "metadata": {
        "colab": {
          "base_uri": "https://localhost:8080/"
        },
        "id": "cNn7KgPZcIRk",
        "outputId": "b36ad711-6b1b-4e75-ebcd-fd9e16d4e649"
      },
      "execution_count": 20,
      "outputs": [
        {
          "output_type": "stream",
          "name": "stdout",
          "text": [
            "Computing, Savage, Murderer\n",
            "loving, understanding, considerate\n",
            "Analysis, analization, critical thinking\n"
          ]
        }
      ]
    }
  ]
}