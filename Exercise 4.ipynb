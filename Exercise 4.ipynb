{
  "nbformat": 4,
  "nbformat_minor": 0,
  "metadata": {
    "colab": {
      "provenance": [],
      "authorship_tag": "ABX9TyO9C3F52enznb1B5DUqulNX",
      "include_colab_link": true
    },
    "kernelspec": {
      "name": "python3",
      "display_name": "Python 3"
    },
    "language_info": {
      "name": "python"
    }
  },
  "cells": [
    {
      "cell_type": "markdown",
      "metadata": {
        "id": "view-in-github",
        "colab_type": "text"
      },
      "source": [
        "<a href=\"https://colab.research.google.com/github/Patrickcruz14/CPE009B-CPE21S1-OOP2/blob/main/Exercise%204.ipynb\" target=\"_parent\"><img src=\"https://colab.research.google.com/assets/colab-badge.svg\" alt=\"Open In Colab\"/></a>"
      ]
    },
    {
      "cell_type": "code",
      "execution_count": 14,
      "metadata": {
        "colab": {
          "base_uri": "https://localhost:8080/"
        },
        "id": "ffDZiZVyKr7x",
        "outputId": "52a73265-89b4-4c61-f3f7-311cd2319418"
      },
      "outputs": [
        {
          "output_type": "execute_result",
          "data": {
            "text/plain": [
              "7"
            ]
          },
          "metadata": {},
          "execution_count": 14
        }
      ],
      "source": [
        "class Foo:\n",
        "    def __init__(self, a, b):\n",
        "        self.a = a\n",
        "        self.b = b\n",
        "\n",
        "    def add(self):\n",
        "        return self.a + self.b\n",
        "\n",
        "foo_object = Foo(3, 4)\n",
        "foo_object.add()\n"
      ]
    },
    {
      "cell_type": "code",
      "source": [
        "class Person:\n",
        "    def __init__(self, name, age):\n",
        "        self.name = name\n",
        "        self.age = age\n",
        "\n",
        "    def display(self):\n",
        "        print(self.name, self.age)\n",
        "\n",
        "person = Person(\"Patrick\", 30)\n",
        "person.display()\n"
      ],
      "metadata": {
        "colab": {
          "base_uri": "https://localhost:8080/"
        },
        "id": "fAbDXWGgOVsK",
        "outputId": "e54935a8-00c7-4886-eff9-423dac647685"
      },
      "execution_count": 19,
      "outputs": [
        {
          "output_type": "stream",
          "name": "stdout",
          "text": [
            "Patrick 30\n"
          ]
        }
      ]
    },
    {
      "cell_type": "code",
      "source": [
        "class Counter:\n",
        "    def __init__(self):\n",
        "        self.current = 0\n",
        "\n",
        "    def increment(self):\n",
        "        self.current += 1\n",
        "\n",
        "    def value(self):\n",
        "        return self.current\n",
        "\n",
        "    def reset(self):\n",
        "        self.current = 0\n",
        "\n",
        "counter = Counter()\n",
        "counter.increment()\n",
        "counter.increment()\n",
        "print(counter.value())  # Print the value after two increments\n",
        "counter.reset()\n",
        "print(counter.value())  # Print the value after resetting\n"
      ],
      "metadata": {
        "colab": {
          "base_uri": "https://localhost:8080/"
        },
        "id": "QoZHs_WiPF0B",
        "outputId": "62a3c27b-8a04-49a4-8bad-40d81fe39570"
      },
      "execution_count": 41,
      "outputs": [
        {
          "output_type": "stream",
          "name": "stdout",
          "text": [
            "2\n",
            "0\n"
          ]
        }
      ]
    },
    {
      "cell_type": "code",
      "source": [
        "class RegularPolygon:\n",
        "  def __init__(self, side):\n",
        "    self.side = side\n",
        "class Square(RegularPolygon):\n",
        "  def area(self):\n",
        "    return self.side * self.side\n",
        "class EquilateralTriangle(RegularPolygon):\n",
        "  def area(self):\n",
        "    return self.side * self.side * 0.433\n",
        "\n",
        "square = Square(5)\n",
        "square.area()\n",
        "triangle = EquilateralTriangle(3)\n",
        "triangle.area()\n"
      ],
      "metadata": {
        "colab": {
          "base_uri": "https://localhost:8080/"
        },
        "id": "fWQkjK2TRHK-",
        "outputId": "8765d5d3-6a6a-47d6-d134-94aeda6a56a4"
      },
      "execution_count": 26,
      "outputs": [
        {
          "output_type": "execute_result",
          "data": {
            "text/plain": [
              "3.897"
            ]
          },
          "metadata": {},
          "execution_count": 26
        }
      ]
    },
    {
      "cell_type": "code",
      "source": [
        "class Grade:\n",
        "    def __init__(self, prelim, midterm, finals):\n",
        "        self.prelim = prelim\n",
        "        self.midterm = midterm\n",
        "        self.finals = finals\n",
        "\n",
        "    def average(self):\n",
        "        return (self.prelim + self.midterm + self.finals) / 3\n",
        "\n",
        "str = input(\" Input your name to see your grade \")\n",
        "if str == \"Patrick\":\n",
        "    print(patrick.display())\n",
        "elif str == \"teo\":\n",
        "    print(teo.display())\n",
        "elif str == \"renver\":\n",
        "    print(renver.display())\n",
        "else:\n",
        "    print(\"No student record\")\n",
        "\n",
        ""
      ],
      "metadata": {
        "colab": {
          "base_uri": "https://localhost:8080/"
        },
        "id": "DqncjimkSyZj",
        "outputId": "2a4b1b2f-fd3a-4d58-d0da-18d2cfedea17"
      },
      "execution_count": 38,
      "outputs": [
        {
          "output_type": "stream",
          "name": "stdout",
          "text": [
            " Input your name to see your grade teo\n",
            "Name: Teo\n",
            "Prelim: 67\n",
            "Midterm: 78\n",
            "Finals: 90\n",
            "Average: 78.33\n"
          ]
        }
      ]
    }
  ]
}